{
 "cells": [
  {
   "cell_type": "code",
   "execution_count": 1,
   "id": "4708d410-f3de-459b-ba0a-d46dc2c057da",
   "metadata": {},
   "outputs": [
    {
     "name": "stdout",
     "output_type": "stream",
     "text": [
      "Hello Python\n"
     ]
    }
   ],
   "source": [
    "# 1. Write a Python program to print \"Hello Python\"\n",
    "\n",
    "print(\"Hello Python\")"
   ]
  },
  {
   "cell_type": "code",
   "execution_count": 2,
   "id": "1cb314a2-c11d-4226-ac00-5ffaf351fa8a",
   "metadata": {},
   "outputs": [
    {
     "name": "stdout",
     "output_type": "stream",
     "text": [
      "Addition of 10 and 5 is: 15\n",
      "Division of 10 by 5 is: 2.0\n"
     ]
    }
   ],
   "source": [
    "# 2. Write a Python program to do arithmetical operations: addition and division\n",
    "\n",
    "# Define two numbers\n",
    "num1 = 10\n",
    "num2 = 5\n",
    "\n",
    "# Perform addition\n",
    "addition = num1 + num2\n",
    "print(f\"Addition of {num1} and {num2} is: {addition}\")\n",
    "\n",
    "# Perform division\n",
    "division = num1 / num2\n",
    "print(f\"Division of {num1} by {num2} is: {division}\")\n"
   ]
  },
  {
   "cell_type": "code",
   "execution_count": 3,
   "id": "7c6da68c-caa5-4add-8aad-84b17250a69c",
   "metadata": {},
   "outputs": [
    {
     "name": "stdout",
     "output_type": "stream",
     "text": [
      "The area of the triangle with base 10 and height 5 is: 25.0\n"
     ]
    }
   ],
   "source": [
    "# 3. Write a Python program to find the area of a triangle\n",
    "\n",
    "# Base and height of the triangle\n",
    "base = 10\n",
    "height = 5\n",
    "\n",
    "# Calculate the area\n",
    "area = 0.5 * base * height\n",
    "print(f\"The area of the triangle with base {base} and height {height} is: {area}\")\n"
   ]
  },
  {
   "cell_type": "code",
   "execution_count": 4,
   "id": "fd185cf2-c231-4d5d-b8d2-6deaa1b903e0",
   "metadata": {},
   "outputs": [
    {
     "name": "stdout",
     "output_type": "stream",
     "text": [
      "Before swapping: a = 3, b = 5\n",
      "After swapping: a = 5, b = 3\n"
     ]
    }
   ],
   "source": [
    "# 4. Write a Python program to swap two variables\n",
    "\n",
    "# Define two variables\n",
    "a = 3\n",
    "b = 5\n",
    "\n",
    "print(f\"Before swapping: a = {a}, b = {b}\")\n",
    "\n",
    "# Swap the variables\n",
    "a, b = b, a\n",
    "\n",
    "print(f\"After swapping: a = {a}, b = {b}\")\n"
   ]
  },
  {
   "cell_type": "code",
   "execution_count": 5,
   "id": "122cfa44-7c8d-4780-9bc1-7bff397750a9",
   "metadata": {},
   "outputs": [
    {
     "name": "stdout",
     "output_type": "stream",
     "text": [
      "Random number generated is: 31\n"
     ]
    }
   ],
   "source": [
    "# 5. Write a Python program to generate a random number\n",
    "\n",
    "import random\n",
    "\n",
    "# Generate a random number between 1 and 100\n",
    "random_number = random.randint(1, 100)\n",
    "print(f\"Random number generated is: {random_number}\")\n"
   ]
  },
  {
   "cell_type": "code",
   "execution_count": null,
   "id": "5459842d-a65d-40ae-98cd-d3406030887d",
   "metadata": {},
   "outputs": [],
   "source": []
  },
  {
   "cell_type": "code",
   "execution_count": null,
   "id": "84d4a29e-113a-4ee3-802b-3e0514cf5884",
   "metadata": {},
   "outputs": [],
   "source": []
  }
 ],
 "metadata": {
  "kernelspec": {
   "display_name": "Python 3 (ipykernel)",
   "language": "python",
   "name": "python3"
  },
  "language_info": {
   "codemirror_mode": {
    "name": "ipython",
    "version": 3
   },
   "file_extension": ".py",
   "mimetype": "text/x-python",
   "name": "python",
   "nbconvert_exporter": "python",
   "pygments_lexer": "ipython3",
   "version": "3.11.7"
  }
 },
 "nbformat": 4,
 "nbformat_minor": 5
}
