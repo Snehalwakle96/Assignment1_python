{
 "cells": [
  {
   "cell_type": "code",
   "execution_count": null,
   "id": "5936b890",
   "metadata": {},
   "outputs": [],
   "source": [
    "1.What are the two values of the Boolean data type? How do you write them?\n",
    "\n",
    "Ans-->\n",
    "In Python, the Boolean data type has two values: True and False. \n",
    "These values are used to represent the concept of truth and falsehood in logical expressions and conditions.\n",
    "\n",
    "Here's how we write them in Python:\n",
    "\n",
    "True: Represents the concept of truth or a positive condition. It is written with a capital \"T\" at the beginning, \n",
    "like this: True.\n",
    "\n",
    "False: Represents the concept of falsehood or a negative condition. It is also written with a capital \"F\" at the beginning, \n",
    "like this: False.\n",
    "\n",
    "You can use these Boolean values in conditional statements, loops, and other parts of your Python code to make decisions \n",
    "and control the flow of your program based on whether a condition is true or false.\n",
    "For example:"
   ]
  },
  {
   "cell_type": "code",
   "execution_count": 1,
   "id": "5d602898",
   "metadata": {},
   "outputs": [
    {
     "name": "stdout",
     "output_type": "stream",
     "text": [
      "x is less than y. This condition is True.\n"
     ]
    }
   ],
   "source": [
    "x = 5\n",
    "y = 10\n",
    "\n",
    "if x < y:\n",
    "    print(\"x is less than y. This condition is True.\")\n",
    "else:\n",
    "    print(\"x is not less than y. This condition is False.\")\n"
   ]
  },
  {
   "cell_type": "code",
   "execution_count": null,
   "id": "d155f718",
   "metadata": {},
   "outputs": [],
   "source": [
    "In the above example, the if statement evaluates the condition x < y, which is true, \n",
    "so it executes the code within the if block and prints the message \"x is less than y. This condition is True.\""
   ]
  },
  {
   "cell_type": "code",
   "execution_count": null,
   "id": "22983177",
   "metadata": {},
   "outputs": [],
   "source": [
    "2. What are the three different types of Boolean operators?\n",
    "\n",
    "Ans-->\n",
    "There are three main types of Boolean operators:\n",
    "\n",
    "1. AND Operator (and): The AND operator returns `True` if both operands are `True`. \n",
    "    If at least one operand is `False`, it returns `False`. In Python, the AND operator is represented by the keyword `and`.\n",
    "\n",
    "   Example:\n",
    "   True and True  # Returns True\n",
    "   True and False  # Returns False\n",
    "   False and True  # Returns False\n",
    "   False and False  # Returns False\n",
    "\n",
    "\n",
    "2. OR Operator (or): The OR operator returns `True` if at least one of the operands is `True`. \n",
    "    It returns `False` only if both operands are `False`. In Python, the OR operator is represented by the keyword `or`.\n",
    "\n",
    "   Example:\n",
    "   True or True  # Returns True\n",
    "   True or False  # Returns True\n",
    "   False or True  # Returns True\n",
    "   False or False  # Returns False\n",
    "\n",
    "\n",
    "3. NOT Operator (not): The NOT operator is a unary operator that negates the value of its operand. \n",
    "    It returns `True` if the operand is `False`, and it returns `False` if the operand is `True`. \n",
    "    In Python, the NOT operator is represented by the keyword `not`.\n",
    "\n",
    "   Example:\n",
    "   not True  # Returns False\n",
    "   not False  # Returns True\n",
    " \n",
    "\n",
    "These Boolean operators are frequently used in conditional statements, logical expressions, and other decision-making constructs\n",
    "to control the flow of a program and make logical comparisons."
   ]
  },
  {
   "cell_type": "code",
   "execution_count": null,
   "id": "c853630c",
   "metadata": {},
   "outputs": [],
   "source": [
    "3. Make a list of each Boolean operator's truth tables (i.e. every possible combination of Boolean values for the operator and \n",
    "what it evaluate ).\n",
    "\n",
    "Ans-->\n",
    "Certainly, here are the truth tables for each Boolean operator:\n",
    "\n",
    "1. AND Operator (and):\n",
    "   \n",
    "   | A     | B     | A and B |\n",
    "   |-------|-------|---------|\n",
    "   | True  | True  | True    |\n",
    "   | True  | False | False   |\n",
    "   | False | True  | False   |\n",
    "   | False | False | False   |\n",
    "\n",
    "2. OR Operator (or):\n",
    "\n",
    "   | A     | B     | A or B  |\n",
    "   |-------|-------|---------|\n",
    "   | True  | True  | True    |\n",
    "   | True  | False | True    |\n",
    "   | False | True  | True    |\n",
    "   | False | False | False   |\n",
    "\n",
    "3. NOT Operator (not):\n",
    "\n",
    "   | A     | not A |\n",
    "   |-------|-------|\n",
    "   | True  | False |\n",
    "   | False | True  |\n",
    "\n",
    "These truth tables show the result of applying each Boolean operator to different combinations of Boolean values (A and B) and \n",
    "the resulting Boolean outcome."
   ]
  },
  {
   "cell_type": "code",
   "execution_count": null,
   "id": "81bec60e",
   "metadata": {},
   "outputs": [],
   "source": [
    "4. What are the values of the following expressions?\n",
    "\n",
    "Ans-->\n",
    "(5 > 4) and (3 == 5)                -----> False\n",
    "not (5 > 4)                         -----> False\n",
    "(5 > 4) or (3 == 5)                 -----> True\n",
    "not ((5 > 4) or (3 == 5))           -----> False\n",
    "(True and True) and (True == False) -----> False\n",
    "(not False) or (not True)           -----> True"
   ]
  },
  {
   "cell_type": "code",
   "execution_count": null,
   "id": "bb9cf8a3",
   "metadata": {},
   "outputs": [],
   "source": [
    "5. What are the six comparison operators?\n",
    "\n",
    "Ans--> \n",
    "1.Equality Operator (==): Checks if two values are equal. It returns True if they are, and False if they are not.\n",
    "\n",
    "Example: 5 == 5 evaluates to True, while 5 == 6 evaluates to False.\n",
    "\n",
    "2.Inequality Operator (!=): Checks if two values are not equal. It returns True if they are different, \n",
    "    and False if they are the same.\n",
    "\n",
    "Example: 5 != 6 evaluates to True, while 5 != 5 evaluates to False.\n",
    "\n",
    "3.Greater Than Operator (>): Checks if the left operand is greater than the right operand. It returns True if the condition is \n",
    "    met, and False otherwise.\n",
    "\n",
    "Example: 5 > 4 evaluates to True, while 4 > 5 evaluates to False.\n",
    "\n",
    "4.Less Than Operator (<): Checks if the left operand is less than the right operand. It returns True if the condition is met, \n",
    "    and False otherwise.\n",
    "\n",
    "Example: 4 < 5 evaluates to True, while 5 < 4 evaluates to False.\n",
    "\n",
    "5.Greater Than or Equal To Operator (>=): Checks if the left operand is greater than or equal to the right operand. It returns \n",
    "    True if the condition is met, and False otherwise.\n",
    "\n",
    "Example: 5 >= 5 evaluates to True, while 4 >= 5 evaluates to False.\n",
    "\n",
    "6.Less Than or Equal To Operator (<=): Checks if the left operand is less than or equal to the right operand. It returns True if\n",
    "    the condition is met, and False otherwise.\n",
    "\n",
    "Example: 4 <= 5 evaluates to True, while 5 <= 4 evaluates to False.\n",
    "\n",
    "These comparison operators are used to construct conditional statements and make logical comparisons in Python."
   ]
  },
  {
   "cell_type": "code",
   "execution_count": null,
   "id": "9e8b1e5d",
   "metadata": {},
   "outputs": [],
   "source": [
    "6. How do you tell the difference between the equal to and assignment operators? Describe a\n",
    "condition and when you would use one."
   ]
  },
  {
   "cell_type": "code",
   "execution_count": null,
   "id": "37273a9f",
   "metadata": {},
   "outputs": [],
   "source": [
    "Ans--> \n",
    "To differentiate between the equal to (==) operator and the assignment operator (=), you can consider their usage and context:\n",
    "\n",
    "Equal To Operator (==):\n",
    "\n",
    "The equal to operator is used for comparing two values to determine if they are equal.\n",
    "It returns a Boolean value (True if the values are equal, False if they are not).\n",
    "It is commonly used in conditional statements or expressions to check for equality.\n",
    "\n",
    "Assignment Operator (=):\n",
    "\n",
    "The assignment operator is used to assign a value to a variable.\n",
    "It takes the value on the right side and assigns it to the variable on the left side.\n",
    "It is used to create, update, or reassign variables\n",
    "\n",
    "In summary, the key difference is in their purpose and behavior:\n",
    "\n",
    "== is used to compare values for equality.\n",
    "= is used to assign values to variables.\n",
    "You would use the equal to operator (==) when you need to compare two values to make a decision or evaluate a condition, \n",
    "typically in control structures like if statements or loops. \n",
    "For example, you might use it to check if a user's input matches a predefined value or to compare the results of calculations.\n",
    "\n",
    "You would use the assignment operator (=) when you want to store a value in a variable, update a variable's value, \n",
    "or create a new variable. This is commonly done to work with data, perform calculations, or store information for later use in \n",
    "your program."
   ]
  },
  {
   "cell_type": "code",
   "execution_count": 1,
   "id": "06b3167e",
   "metadata": {},
   "outputs": [
    {
     "name": "stdout",
     "output_type": "stream",
     "text": [
      "x is equal to y\n"
     ]
    }
   ],
   "source": [
    "#Equal To Operator (==)\n",
    "x = 5\n",
    "y = 5\n",
    "if x == y:\n",
    "    print(\"x is equal to y\")     #In this example, x == y is used to check if the values of x and y are equal."
   ]
  },
  {
   "cell_type": "code",
   "execution_count": 3,
   "id": "18ef54dc",
   "metadata": {},
   "outputs": [
    {
     "name": "stdout",
     "output_type": "stream",
     "text": [
      "10\n"
     ]
    }
   ],
   "source": [
    "#Assignment Operator (=)\n",
    "x = 10\n",
    "print(x)\n",
    "#In this example, the assignment operator = is used to assign the value 10 to the variable x.\n"
   ]
  },
  {
   "cell_type": "code",
   "execution_count": null,
   "id": "938f62da",
   "metadata": {},
   "outputs": [],
   "source": [
    "7. Identify the three blocks in this code:\n",
    "spam = 0\n",
    "if spam == 10:\n",
    "print('eggs')\n",
    "if spam > 5:\n",
    "print('bacon')\n",
    "else:\n",
    "print('ham')\n",
    "print('spam')\n",
    "print('spam')"
   ]
  },
  {
   "cell_type": "code",
   "execution_count": null,
   "id": "20a3aff2",
   "metadata": {},
   "outputs": [],
   "source": [
    "Ans-->\n",
    "Block under the first if statement:\n",
    "This block contains the code inside the first if statement. It will execute the print('eggs') statement if the condition \n",
    "spam == 10 is True. However, the provided code snippet does not indicate a specific value for the spam variable, \n",
    "so it's unclear whether this block will execute."
   ]
  },
  {
   "cell_type": "code",
   "execution_count": null,
   "id": "08416d7d",
   "metadata": {},
   "outputs": [],
   "source": [
    "if spam == 10:\n",
    "print('eggs')"
   ]
  },
  {
   "cell_type": "code",
   "execution_count": null,
   "id": "8e39d413",
   "metadata": {},
   "outputs": [],
   "source": [
    "Block under the second if statement:\n",
    "This block contains the code inside the second if statement. It will execute the print('bacon') statement if the condition \n",
    "spam > 5 is True. Again, the code does not specify a value for the spam variable, so it's unclear whether this block will \n",
    "execute."
   ]
  },
  {
   "cell_type": "code",
   "execution_count": null,
   "id": "10cf5354",
   "metadata": {},
   "outputs": [],
   "source": [
    "if spam > 5:\n",
    "print('bacon')"
   ]
  },
  {
   "cell_type": "code",
   "execution_count": null,
   "id": "f4f3f780",
   "metadata": {},
   "outputs": [],
   "source": [
    "Block under the else statement:\n",
    "This block contains the code inside the else statement. It will execute the print('ham') statement if the condition of the \n",
    "preceding if statement (spam > 5) is False.\n",
    "\n",
    "It's worth noting that in Python, indentation is critical, and blocks are determined by the level of indentation. However, \n",
    "the behavior of these blocks depends on the value of the spam variable, which is not defined in the provided code. \n",
    "The outcome of the code execution will vary based on the actual value of spam."
   ]
  },
  {
   "cell_type": "code",
   "execution_count": null,
   "id": "42ac5fab",
   "metadata": {},
   "outputs": [],
   "source": [
    "else:\n",
    "print('ham')"
   ]
  },
  {
   "cell_type": "code",
   "execution_count": null,
   "id": "efe8dfdb",
   "metadata": {},
   "outputs": [],
   "source": [
    "8. Write code that prints Hello if 1 is stored in spam, prints Howdy if 2 is stored in spam, and prints\n",
    "Greetings! if anything else is stored in spam.\n",
    "\n",
    "Ans--> We can achieve this using an if-elif-else statement in Python. Here is the code that prints different messages based on \n",
    "the value stored in the spam variable:"
   ]
  },
  {
   "cell_type": "code",
   "execution_count": 4,
   "id": "fdcd0c5a",
   "metadata": {},
   "outputs": [
    {
     "name": "stdout",
     "output_type": "stream",
     "text": [
      "Greetings!\n"
     ]
    }
   ],
   "source": [
    "spam = 3  # We can change the value of spam to test different cases\n",
    "\n",
    "if spam == 1:\n",
    "    print(\"Hello\")\n",
    "elif spam == 2:\n",
    "    print(\"Howdy\")\n",
    "else:\n",
    "    print(\"Greetings!\")"
   ]
  },
  {
   "cell_type": "code",
   "execution_count": null,
   "id": "e257fa42",
   "metadata": {},
   "outputs": [],
   "source": [
    "In this code, if the value of spam is 1, it will print \"Hello.\" If the value of spam is 2, it will print \"Howdy.\" \n",
    "For any other value of spam, it will print \"Greetings!\" You can change the value of spam to test each case."
   ]
  }
 ],
 "metadata": {
  "kernelspec": {
   "display_name": "Python 3 (ipykernel)",
   "language": "python",
   "name": "python3"
  },
  "language_info": {
   "codemirror_mode": {
    "name": "ipython",
    "version": 3
   },
   "file_extension": ".py",
   "mimetype": "text/x-python",
   "name": "python",
   "nbconvert_exporter": "python",
   "pygments_lexer": "ipython3",
   "version": "3.11.4"
  }
 },
 "nbformat": 4,
 "nbformat_minor": 5
}
