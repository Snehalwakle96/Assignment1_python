{
 "cells": [
  {
   "cell_type": "code",
   "execution_count": null,
   "id": "baa2655c",
   "metadata": {},
   "outputs": [],
   "source": [
    "1.Why are functions advantageous to have in your programs?\n",
    "\n",
    "Ans--> Functions in Python provide several advantages:\n",
    "\n",
    "Modularity: Functions allow you to break your code into smaller, manageable, and reusable pieces. This promotes code \n",
    "organization and maintainability.\n",
    "Reusability: You can call a function multiple times with different arguments, reducing code duplication and promoting efficient \n",
    "coding.\n",
    "Abstraction: Functions allow you to abstract the underlying logic, making it easier to understand and use complex functionality.\n",
    "Testing: Functions make it easier to test individual parts of your code in isolation, improving the testing process.\n",
    "Readability: Well-named functions enhance code readability and comprehension."
   ]
  },
  {
   "cell_type": "code",
   "execution_count": null,
   "id": "037731df",
   "metadata": {},
   "outputs": [],
   "source": [
    "2.When does the code in a function run: when it is specified or when it is called?\n",
    "\n",
    "Ans--> The code within a function runs when the function is called, not when it is specified or defined. Functions are blocks of \n",
    "code that are executed only when invoked (called) in your program.\n"
   ]
  },
  {
   "cell_type": "code",
   "execution_count": null,
   "id": "4a426226",
   "metadata": {},
   "outputs": [],
   "source": [
    "3.What statement creates a function?\n",
    "\n",
    "Ans--> In Python, you create a function using the def statement. The def statement is followed by the function name, parameters \n",
    "(if any), and a colon. The code block under the def statement defines the function's behavior.\n",
    "\n",
    "Example:"
   ]
  },
  {
   "cell_type": "code",
   "execution_count": null,
   "id": "28133d8e",
   "metadata": {},
   "outputs": [],
   "source": [
    "def my_function(parameter1, parameter2):\n",
    "    # Function code here"
   ]
  },
  {
   "cell_type": "code",
   "execution_count": null,
   "id": "b1d0c5ce",
   "metadata": {},
   "outputs": [],
   "source": [
    "4.What is the difference between a function and a function call?\n",
    "\n",
    "Ans---> A function is a defined block of code that specifies a particular behavior or set of actions.\n",
    "A function call is when you invoke or execute a function to make it perform its defined actions. A function call is made by \n",
    "using the function name followed by parentheses and, if applicable, providing arguments or parameters.\n"
   ]
  },
  {
   "cell_type": "code",
   "execution_count": null,
   "id": "449e85db",
   "metadata": {},
   "outputs": [],
   "source": [
    "5.How many global scopes are there in a Python program? How many local scopes?\n",
    "\n",
    "Ans--> In a Python program, there is typically one global scope, which represents the outermost level of the program. Local \n",
    "scopes, on the other hand, are created within functions. Each function call creates its own local scope. Therefore, the number \n",
    "of local scopes depends on how many functions are called during the program's execution."
   ]
  },
  {
   "cell_type": "code",
   "execution_count": null,
   "id": "89078d8c",
   "metadata": {},
   "outputs": [],
   "source": [
    "6.What happens to variables in a local scope when the function call returns?\n",
    "\n",
    "Ans--> When a function call returns, the variables defined in its local scope are destroyed. They cease to exist, and their \n",
    "values are\n",
    "no longer accessible outside of the function. Any data or variables you want to retain must be explicitly returned by the \n",
    "function or stored in a global scope."
   ]
  },
  {
   "cell_type": "code",
   "execution_count": null,
   "id": "ced5df9e",
   "metadata": {},
   "outputs": [],
   "source": [
    "7.What is the concept of a return value? Is it possible to have a return value in an expression?\n",
    "\n",
    "Ans--> A return value is the result of a function's execution. It is the value that the function sends back to the code that \n",
    "called it.\n",
    "Return values are used to pass data or results from a function to the caller. Yes, it is possible to use a return value in an\n",
    "expression. You can assign the result of a function call to a variable or use it directly in an expression."
   ]
  },
  {
   "cell_type": "code",
   "execution_count": null,
   "id": "de91967c",
   "metadata": {},
   "outputs": [],
   "source": [
    "8.If a function does not have a return statement, what is the return value of a call to that function?\n",
    "\n",
    "Ans--> If a function does not have a return statement, the function call will return None. None is a special Python object that \n",
    "represents the absence of a value. It is often used when a function doesn't need to return any specific result."
   ]
  },
  {
   "cell_type": "code",
   "execution_count": null,
   "id": "f5c02871",
   "metadata": {},
   "outputs": [],
   "source": [
    "9.How do you make a function variable refer to the global variable?\n",
    "\n",
    "Ans--> To make a function variable refer to a global variable, you can use the global keyword within the function. This allows \n",
    "you to modify the global variable from within the function. However, it's generally recommended to avoid modifying global \n",
    "variables directly in functions for better code organization. It's often better to pass the global variable as an argument to \n",
    "the function and return the updated value.\n",
    "\n",
    "Example:"
   ]
  },
  {
   "cell_type": "code",
   "execution_count": 2,
   "id": "e7b2f07f",
   "metadata": {},
   "outputs": [
    {
     "name": "stdout",
     "output_type": "stream",
     "text": [
      "20\n"
     ]
    }
   ],
   "source": [
    "global_var = 10\n",
    "\n",
    "def modify_global_var():\n",
    "    global global_var\n",
    "    global_var = 20\n",
    "\n",
    "modify_global_var()\n",
    "print(global_var)  # This will print 20"
   ]
  },
  {
   "cell_type": "code",
   "execution_count": null,
   "id": "92c37e22",
   "metadata": {},
   "outputs": [],
   "source": [
    "10.What is the data type of None?\n",
    "\n",
    "Ans--> The data type of None in Python is NoneType. It is a special data type that represents the absence of a value or a null \n",
    "value."
   ]
  },
  {
   "cell_type": "code",
   "execution_count": null,
   "id": "5125f233",
   "metadata": {},
   "outputs": [],
   "source": [
    "11.What does the sentence import areallyourpetsnamederic do?\n",
    "\n",
    "Ans--> The sentence import areallyourpetsnamederic attempts to import a Python module named areallyourpetsnamederic. \n",
    "In Python, a module is a file that contains Python code, variables, and functions that can be used in other Python scripts. \n",
    "When you use the import statement with a module name, Python searches for that module in its standard library and in directories\n",
    "specified by the sys.path variable.\n",
    "\n",
    "If the areallyourpetsnamederic module exists and can be found, it will be loaded, and you can access its functions and variables\n",
    "in your code. If it doesn't exist or cannot be found, you will get an ImportError indicating that the module could not be \n",
    "imported."
   ]
  },
  {
   "cell_type": "code",
   "execution_count": null,
   "id": "cb6c9cf2",
   "metadata": {},
   "outputs": [],
   "source": [
    "12.If you had a bacon() feature in a spam module, what would you call it after importing spam?\n",
    "\n",
    "Ans-->If you have a bacon() function in a module named spam and you have imported the spam module, you can call the bacon() \n",
    "function \n",
    "likethis:"
   ]
  },
  {
   "cell_type": "code",
   "execution_count": null,
   "id": "54cba89f",
   "metadata": {},
   "outputs": [],
   "source": [
    "import spam\n",
    "\n",
    "# Call the bacon() function from the spam module\n",
    "spam.bacon()          \n",
    "#When you import a module, you can access its functions and variables by using the module name followed by a dot (.) to reference them."
   ]
  },
  {
   "cell_type": "code",
   "execution_count": null,
   "id": "3b900a0d",
   "metadata": {},
   "outputs": [],
   "source": [
    "13.What can you do to save a program from crashing if it encounters an error?\n",
    "\n",
    "Ans--> To save a program from crashing when it encounters an error, you can use error handling techniques in Python, \n",
    "specifically \n",
    "using try and except blocks. This allows you to handle exceptions gracefully and prevent your program from abruptly \n",
    "terminating. Here's an example:"
   ]
  },
  {
   "cell_type": "code",
   "execution_count": 4,
   "id": "515f30ee",
   "metadata": {},
   "outputs": [
    {
     "name": "stdout",
     "output_type": "stream",
     "text": [
      "Error: Division by zero\n"
     ]
    }
   ],
   "source": [
    "try:\n",
    "    # Code that may raise an exception\n",
    "    result = 10 / 0\n",
    "except ZeroDivisionError:\n",
    "    # Handle the specific exception (in this case, a division by zero)\n",
    "    print(\"Error: Division by zero\")\n",
    "except Exception as e:\n",
    "    # Handle other exceptions\n",
    "    print(f\"An error occurred: {e}\")\n"
   ]
  },
  {
   "cell_type": "code",
   "execution_count": null,
   "id": "e5d27477",
   "metadata": {},
   "outputs": [],
   "source": [
    "In this example, the code inside the try block attempts to perform a division by zero, which would normally raise a \n",
    "ZeroDivisionError and cause the program to crash. However, by using the try and except blocks, you can catch the exception, \n",
    "provide an error message, and continue the program's execution."
   ]
  },
  {
   "cell_type": "code",
   "execution_count": null,
   "id": "f9f098fc",
   "metadata": {},
   "outputs": [],
   "source": [
    "14.What is the purpose of the try clause? What is the purpose of the except clause?\n",
    "\n",
    "Ans--> Purpose of the try clause: The try clause is used to enclose a block of code that may raise exceptions (errors) during \n",
    "    execution.\n",
    "It allows you to \"try\" to execute the code and monitor it for any exceptions. If an exception occurs within the try block, the \n",
    "program will not terminate abruptly but will instead jump to the appropriate except block.\n",
    "\n",
    "Purpose of the except clause: The except clause follows the try block and is used to specify how to handle specific exceptions \n",
    "that may occur within the try block. Each except block is associated with a particular exception type. If an exception matches \n",
    "the type specified in an except block, that block is executed to handle the exception gracefully. The except block can include \n",
    "error-handling code, logging, or any action you want to take in response to the exception.\n",
    "\n",
    "Together, the try and except clauses provide a structured way to handle exceptions, ensuring that your program can continue \n",
    "running even in the presence of errors, thereby preventing crashes and improving program robustness."
   ]
  }
 ],
 "metadata": {
  "kernelspec": {
   "display_name": "Python 3 (ipykernel)",
   "language": "python",
   "name": "python3"
  },
  "language_info": {
   "codemirror_mode": {
    "name": "ipython",
    "version": 3
   },
   "file_extension": ".py",
   "mimetype": "text/x-python",
   "name": "python",
   "nbconvert_exporter": "python",
   "pygments_lexer": "ipython3",
   "version": "3.11.4"
  }
 },
 "nbformat": 4,
 "nbformat_minor": 5
}
