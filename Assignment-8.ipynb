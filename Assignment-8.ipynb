{
 "cells": [
  {
   "cell_type": "markdown",
   "id": "0c99f2af-be7a-41d9-87d1-3b1ef2d36749",
   "metadata": {},
   "source": [
    "### Q1: Is the Python Standard Library included with PyInputPlus?\n",
    "A1: No, PyInputPlus is not included in the Python Standard Library. It is an external module that needs to be installed separately using pip (e.g., pip install pyinputplus)."
   ]
  },
  {
   "cell_type": "markdown",
   "id": "f47ee437-0d90-4468-93ef-ac6a8bf03736",
   "metadata": {},
   "source": [
    "### Q2: Why is PyInputPlus commonly imported with import pyinputplus as pypi?\n",
    "A2: The alias pypi is shorter and more convenient to use in the code. It helps to avoid typing the full module name every time a function from PyInputPlus is called.\n"
   ]
  },
  {
   "cell_type": "markdown",
   "id": "37268a5d-e2f3-459d-a993-072b355d2088",
   "metadata": {},
   "source": [
    "### Q3: How do you distinguish between inputInt() and inputFloat()?\n",
    "A3: The inputInt() function ensures that the user inputs an integer value, while inputFloat() allows the user to input a floating-point number. Both functions validate the input type.\n"
   ]
  },
  {
   "cell_type": "markdown",
   "id": "f2903e14-02fa-4dcd-ac05-77ad20b12420",
   "metadata": {},
   "source": [
    "### Q4: Using PyInputPlus, how do you ensure that the user enters a whole number between 0 and 99?\n",
    "A4: You can use the inputInt() function with the min and max parameters to restrict the user to enter a whole number between 0 and 99:\n"
   ]
  },
  {
   "cell_type": "code",
   "execution_count": 5,
   "id": "d3eaa54b-1e07-406a-8504-388003a04dbf",
   "metadata": {},
   "outputs": [
    {
     "name": "stdout",
     "output_type": "stream",
     "text": [
      "Collecting pyinputplus\n",
      "  Downloading PyInputPlus-0.2.12.tar.gz (20 kB)\n",
      "  Installing build dependencies: started\n",
      "  Installing build dependencies: finished with status 'done'\n",
      "  Getting requirements to build wheel: started\n",
      "  Getting requirements to build wheel: finished with status 'done'\n",
      "  Preparing metadata (pyproject.toml): started\n",
      "  Preparing metadata (pyproject.toml): finished with status 'done'\n",
      "Collecting pysimplevalidate>=0.2.7 (from pyinputplus)\n",
      "  Downloading PySimpleValidate-0.2.12.tar.gz (22 kB)\n",
      "  Installing build dependencies: started\n",
      "  Installing build dependencies: finished with status 'done'\n",
      "  Getting requirements to build wheel: started\n",
      "  Getting requirements to build wheel: finished with status 'done'\n",
      "  Preparing metadata (pyproject.toml): started\n",
      "  Preparing metadata (pyproject.toml): finished with status 'done'\n",
      "Collecting stdiomask>=0.0.3 (from pyinputplus)\n",
      "  Downloading stdiomask-0.0.6.tar.gz (3.6 kB)\n",
      "  Installing build dependencies: started\n",
      "  Installing build dependencies: finished with status 'done'\n",
      "  Getting requirements to build wheel: started\n",
      "  Getting requirements to build wheel: finished with status 'done'\n",
      "  Preparing metadata (pyproject.toml): started\n",
      "  Preparing metadata (pyproject.toml): finished with status 'done'\n",
      "Building wheels for collected packages: pyinputplus, pysimplevalidate, stdiomask\n",
      "  Building wheel for pyinputplus (pyproject.toml): started\n",
      "  Building wheel for pyinputplus (pyproject.toml): finished with status 'done'\n",
      "  Created wheel for pyinputplus: filename=PyInputPlus-0.2.12-py3-none-any.whl size=11318 sha256=e674ed6d08fc3d37b0e4563d738a042a89b20302d01350b7cb6f0ecf66bccd4d\n",
      "  Stored in directory: c:\\users\\cla.shehal\\appdata\\local\\pip\\cache\\wheels\\a3\\6b\\89\\3bec14288af8e0729d088fb41a785e583d49e772f2529c7676\n",
      "  Building wheel for pysimplevalidate (pyproject.toml): started\n",
      "  Building wheel for pysimplevalidate (pyproject.toml): finished with status 'done'\n",
      "  Created wheel for pysimplevalidate: filename=PySimpleValidate-0.2.12-py3-none-any.whl size=16204 sha256=9186860ede3f32e089497b4575ef8a029416da43bf8048ac7036577ab7be9f4c\n",
      "  Stored in directory: c:\\users\\cla.shehal\\appdata\\local\\pip\\cache\\wheels\\fc\\40\\7a\\4d3b2dc2e80b4b3bbda89eec94fcefd6c8bd1101cc7bb89554\n",
      "  Building wheel for stdiomask (pyproject.toml): started\n",
      "  Building wheel for stdiomask (pyproject.toml): finished with status 'done'\n",
      "  Created wheel for stdiomask: filename=stdiomask-0.0.6-py3-none-any.whl size=3322 sha256=33f08f25e91e8d0e41d48d0b3d0c810520c1876e55ef85100a5f74c5f96370ae\n",
      "  Stored in directory: c:\\users\\cla.shehal\\appdata\\local\\pip\\cache\\wheels\\19\\0c\\90\\5ee0da7cf06ff7e233f273063797785d5eabf0ab9f04220866\n",
      "Successfully built pyinputplus pysimplevalidate stdiomask\n",
      "Installing collected packages: stdiomask, pysimplevalidate, pyinputplus\n",
      "Successfully installed pyinputplus-0.2.12 pysimplevalidate-0.2.12 stdiomask-0.0.6\n"
     ]
    },
    {
     "name": "stderr",
     "output_type": "stream",
     "text": [
      "DEPRECATION: textract 1.6.5 has a non-standard dependency specifier extract-msg<=0.29.*. pip 24.0 will enforce this behaviour change. A possible replacement is to upgrade to a newer version of textract or contact the author to suggest that they release a version with a conforming dependency specifiers. Discussion can be found at https://github.com/pypa/pip/issues/12063\n"
     ]
    },
    {
     "name": "stdout",
     "output_type": "stream",
     "text": [
      "Collecting pyinputplus\n",
      "  Using cached PyInputPlus-0.2.12.tar.gz (20 kB)\n",
      "  Installing build dependencies: started\n",
      "  Installing build dependencies: finished with status 'done'\n",
      "  Getting requirements to build wheel: started\n",
      "  Getting requirements to build wheel: finished with status 'done'\n",
      "  Preparing metadata (pyproject.toml): started\n",
      "  Preparing metadata (pyproject.toml): finished with status 'done'\n",
      "Collecting pysimplevalidate>=0.2.7 (from pyinputplus)\n",
      "  Using cached PySimpleValidate-0.2.12-py3-none-any.whl\n",
      "Collecting stdiomask>=0.0.3 (from pyinputplus)\n",
      "  Using cached stdiomask-0.0.6-py3-none-any.whl\n",
      "Building wheels for collected packages: pyinputplus\n",
      "  Building wheel for pyinputplus (pyproject.toml): started\n",
      "  Building wheel for pyinputplus (pyproject.toml): finished with status 'done'\n",
      "  Created wheel for pyinputplus: filename=PyInputPlus-0.2.12-py3-none-any.whl size=11318 sha256=0a1c2e0f297b2973c43825c73e00b4781faf4d61f8bb2d28c8971af0f5ad8431\n",
      "  Stored in directory: c:\\users\\cla.shehal\\appdata\\local\\pip\\cache\\wheels\\a3\\6b\\89\\3bec14288af8e0729d088fb41a785e583d49e772f2529c7676\n",
      "Successfully built pyinputplus\n",
      "Installing collected packages: stdiomask, pysimplevalidate, pyinputplus\n",
      "Successfully installed pyinputplus-0.2.12 pysimplevalidate-0.2.12 stdiomask-0.0.6\n"
     ]
    },
    {
     "name": "stderr",
     "output_type": "stream",
     "text": [
      "DEPRECATION: textract 1.6.5 has a non-standard dependency specifier extract-msg<=0.29.*. pip 24.0 will enforce this behaviour change. A possible replacement is to upgrade to a newer version of textract or contact the author to suggest that they release a version with a conforming dependency specifiers. Discussion can be found at https://github.com/pypa/pip/issues/12063\n"
     ]
    }
   ],
   "source": [
    "!pip install pyinputplus\n"
   ]
  },
  {
   "cell_type": "code",
   "execution_count": 8,
   "id": "1f0ef8da-24fd-4a1c-bd5d-f7ca7b62429f",
   "metadata": {},
   "outputs": [
    {
     "name": "stdout",
     "output_type": "stream",
     "text": [
      "Enter a whole number between 0 and 99: "
     ]
    },
    {
     "name": "stdin",
     "output_type": "stream",
     "text": [
      " 4.5\n"
     ]
    },
    {
     "name": "stdout",
     "output_type": "stream",
     "text": [
      "'4.5' is not an integer.\n",
      "Enter a whole number between 0 and 99: "
     ]
    },
    {
     "name": "stdin",
     "output_type": "stream",
     "text": [
      " 45\n"
     ]
    }
   ],
   "source": [
    "import pyinputplus as pypi\n",
    "\n",
    "number = pypi.inputInt(prompt=\"Enter a whole number between 0 and 99: \", min=0, max=99)"
   ]
  },
  {
   "cell_type": "markdown",
   "id": "55014a05-0356-49de-b84b-1a71734d9226",
   "metadata": {},
   "source": [
    "### Q5: What is transferred to the keyword arguments allowRegexes and blockRegexes?\n",
    "A5: The allowRegexes parameter is used to specify a list of regex patterns that are explicitly allowed as valid input, while blockRegexes specifies patterns that are explicitly blocked. If a user input matches a pattern in blockRegexes, it will be rejected.\n"
   ]
  },
  {
   "cell_type": "markdown",
   "id": "805864e2-cd94-4c86-ac0a-3acaee162f12",
   "metadata": {},
   "source": [
    "### Q6: If a blank input is entered three times, what does inputStr(limit=3) do?\n",
    "A6: If the user enters a blank input three times, inputStr(limit=3) will raise a RetryLimitException after the third attempt, indicating that the user has exceeded the allowed number of retries.\n"
   ]
  },
  {
   "cell_type": "markdown",
   "id": "8e9f8f34-0cd0-46be-a626-dcf24b4e8dfc",
   "metadata": {},
   "source": [
    "### Q7: If blank input is entered three times, what does inputStr(limit=3, default='hello') do?\n",
    "A7: If a blank input is entered three times, inputStr(limit=3, default='hello') will return the default value 'hello' instead of raising an exception. This allows the program to continue without error.\n"
   ]
  },
  {
   "cell_type": "code",
   "execution_count": null,
   "id": "bcb5be6b-0b57-4b6c-926e-583594d743b5",
   "metadata": {},
   "outputs": [],
   "source": []
  }
 ],
 "metadata": {
  "kernelspec": {
   "display_name": "Python 3 (ipykernel)",
   "language": "python",
   "name": "python3"
  },
  "language_info": {
   "codemirror_mode": {
    "name": "ipython",
    "version": 3
   },
   "file_extension": ".py",
   "mimetype": "text/x-python",
   "name": "python",
   "nbconvert_exporter": "python",
   "pygments_lexer": "ipython3",
   "version": "3.11.7"
  }
 },
 "nbformat": 4,
 "nbformat_minor": 5
}
