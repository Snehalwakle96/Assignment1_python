{
 "cells": [
  {
   "cell_type": "code",
   "execution_count": 3,
   "id": "625336eb-7280-494c-a3d4-6822cbc632b1",
   "metadata": {},
   "outputs": [],
   "source": [
    "### 1.What does an empty dictionary's code look like?\n",
    "empty_dict = {}"
   ]
  },
  {
   "cell_type": "code",
   "execution_count": 4,
   "id": "28ce958a-8447-4593-931d-e9d875e3a28e",
   "metadata": {},
   "outputs": [],
   "source": [
    "### 2.What is the value of a dictionary value with the key 'foo' and the value 42?\n",
    "example_dict = {'foo': 42}\n",
    "value = example_dict['foo']  # The value of the key 'foo' is 42"
   ]
  },
  {
   "cell_type": "code",
   "execution_count": null,
   "id": "d89dbe73-cb1c-4a3f-bb15-3af98b1d7d18",
   "metadata": {},
   "outputs": [],
   "source": [
    "### 3.What is the most significant distinction between a dictionary and a list?\n",
    "A dictionary is a collection of key-value pairs where each key must be unique, and values are accessed using keys. \n",
    "A list is an ordered collection of items where values are accessed using indices."
   ]
  },
  {
   "cell_type": "code",
   "execution_count": null,
   "id": "62dd62bf-9e4e-4436-a812-627218bccd85",
   "metadata": {},
   "outputs": [],
   "source": [
    "### 4.What happens if you try to access spam['foo'] if spam is {'bar': 100}?\n",
    "spam = {'bar': 100}\n",
    "value = spam['foo']  # This will raise a KeyError since 'foo' is not a key in the dictionary."
   ]
  },
  {
   "cell_type": "code",
   "execution_count": null,
   "id": "c94475ac-e4ed-42ea-8669-72a7c5d54be8",
   "metadata": {},
   "outputs": [],
   "source": [
    "### 5.If a dictionary is stored in spam, what is the difference between the expressions 'cat' in spam and 'cat' in spam.keys()?\n",
    "'cat' in spam checks if 'cat' is a key in the dictionary spam. 'cat' in spam.keys() explicitly checks if 'cat' is in the list of keys\n",
    "returned by spam.keys(). They are functionally equivalent.\n"
   ]
  },
  {
   "cell_type": "code",
   "execution_count": null,
   "id": "be1b81c4-ae59-40a6-b10f-8fcd2989d1db",
   "metadata": {},
   "outputs": [],
   "source": [
    "### 6.If a dictionary is stored in spam, what is the difference between the expressions 'cat' in spam and 'cat' in spam.values()?\n",
    "'cat' in spam checks if 'cat' is a key in the dictionary spam. 'cat' in spam.values() checks if 'cat' is one of the values in the dictionary spam.\n"
   ]
  },
  {
   "cell_type": "code",
   "execution_count": null,
   "id": "eddf3177-90df-4fa0-9fba-b1e6aeb360ef",
   "metadata": {},
   "outputs": [],
   "source": [
    "### 7.What is a shortcut for the following code?\n",
    "if 'color' not in spam:\n",
    "    spam['color'] = 'black'-spam.setdefault('color', 'black')"
   ]
  },
  {
   "cell_type": "code",
   "execution_count": null,
   "id": "0ef56497-0487-41c7-8725-5d26d1271567",
   "metadata": {},
   "outputs": [],
   "source": [
    "### 8.How do you \"pretty print\" dictionary values using which module and function?\n",
    "import pprint\n",
    "pprint.pprint(spam)\n"
   ]
  },
  {
   "cell_type": "code",
   "execution_count": null,
   "id": "681391e4-8aa8-4c4a-80e1-6f87d3a429af",
   "metadata": {},
   "outputs": [],
   "source": []
  }
 ],
 "metadata": {
  "kernelspec": {
   "display_name": "Python 3 (ipykernel)",
   "language": "python",
   "name": "python3"
  },
  "language_info": {
   "codemirror_mode": {
    "name": "ipython",
    "version": 3
   },
   "file_extension": ".py",
   "mimetype": "text/x-python",
   "name": "python",
   "nbconvert_exporter": "python",
   "pygments_lexer": "ipython3",
   "version": "3.11.7"
  }
 },
 "nbformat": 4,
 "nbformat_minor": 5
}
