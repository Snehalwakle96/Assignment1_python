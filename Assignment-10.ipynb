{
 "cells": [
  {
   "cell_type": "code",
   "execution_count": null,
   "id": "b23aa723-1429-472e-b18e-7bdd881805d4",
   "metadata": {},
   "outputs": [],
   "source": [
    "# 1. How do you distinguish between shutil.copy() and shutil.copytree()?\n",
    "\n",
    "\"\"\"\n",
    "- shutil.copy(): This function copies a single file from a source location to a destination location.\n",
    "- shutil.copytree(): This function recursively copies an entire directory tree (all files and folders) \n",
    "  from the source location to the destination location.\n",
    "\"\"\""
   ]
  },
  {
   "cell_type": "code",
   "execution_count": null,
   "id": "6a1fe19c-b5f7-48eb-97ee-b98d93997641",
   "metadata": {},
   "outputs": [],
   "source": [
    "import shutil\n",
    "import os\n",
    "\n",
    "# Example:\n",
    "shutil.copy(\"source_file.txt\", \"destination_file.txt\")  # Copies a single file\n",
    "shutil.copytree(\"source_folder\", \"destination_folder\")  # Copies an entire directory tree"
   ]
  },
  {
   "cell_type": "code",
   "execution_count": null,
   "id": "3582fa4b-74b7-41b1-8d70-e10deb234269",
   "metadata": {},
   "outputs": [],
   "source": [
    "# 2. What function is used to rename files?\n",
    "\"\"\"\n",
    "The function used to rename files is os.rename().\n",
    "\"\"\""
   ]
  },
  {
   "cell_type": "code",
   "execution_count": null,
   "id": "1544898c-e663-4de1-8ea6-16950de9fe22",
   "metadata": {},
   "outputs": [],
   "source": [
    "# Example:\n",
    "os.rename(\"old_filename.txt\", \"new_filename.txt\")  # Renames the file"
   ]
  },
  {
   "cell_type": "code",
   "execution_count": null,
   "id": "fc8dd7b2-7e2e-433f-814a-fa853aff17b7",
   "metadata": {},
   "outputs": [],
   "source": [
    "# 3. What is the difference between the delete functions in the send2trash and shutil modules?\n",
    "\n",
    "\"\"\"\n",
    "- send2trash module: The send2trash() function sends the file or folder to the system's trash or recycle bin \n",
    "  instead of permanently deleting it.\n",
    "- shutil module: The shutil.rmtree() function deletes files or directories permanently without sending them to the trash.\n",
    "\"\"\""
   ]
  },
  {
   "cell_type": "code",
   "execution_count": null,
   "id": "5cc3d9e5-17ca-4e2d-b160-2bd7d6090b71",
   "metadata": {},
   "outputs": [],
   "source": [
    "import send2trash\n",
    "\n",
    "# Example:\n",
    "send2trash.send2trash(\"file_to_trash.txt\")  # Sends the file to the trash\n",
    "shutil.rmtree(\"folder_to_delete\")  # Permanently deletes the folder\n"
   ]
  },
  {
   "cell_type": "code",
   "execution_count": null,
   "id": "8cb603df-2392-4617-a102-79bc7aa4b72d",
   "metadata": {},
   "outputs": [],
   "source": [
    "# 4. ZipFile objects have a close() method just like File objects’ close() method. What ZipFile method is\n",
    "# equivalent to File objects’ open() method?\n",
    "\n",
    "\"\"\"\n",
    "The ZipFile method equivalent to the File object's open() method is zipfile.ZipFile(). \n",
    "This method is used to open a ZIP file for reading or writing.\n",
    "\"\"\""
   ]
  },
  {
   "cell_type": "code",
   "execution_count": null,
   "id": "da3343fa-74dc-43c4-a3b0-09cbfea1a231",
   "metadata": {},
   "outputs": [],
   "source": [
    "import zipfile\n",
    "\n",
    "# Example:\n",
    "with zipfile.ZipFile(\"example.zip\", \"r\") as zip_file:\n",
    "    zip_file.extractall(\"extracted_files\")  # Extracts all files from the ZIP archive\n"
   ]
  },
  {
   "cell_type": "code",
   "execution_count": 2,
   "id": "5701f106-8a20-4adf-abef-4e4e6afcc647",
   "metadata": {},
   "outputs": [],
   "source": [
    "# 5. Create a program that searches a folder tree for files with a certain file extension (such as .pdf\n",
    "# or .jpg). Copy these files from whatever location they are in to a new folder.\n",
    "\n",
    "import os\n",
    "import shutil\n",
    "\n",
    "def search_and_copy_files(source_folder, target_folder, file_extension):\n",
    "    \"\"\"\n",
    "    Searches for files with the specified file extension in the source folder and its subfolders,\n",
    "    and copies them to the target folder.\n",
    "    \n",
    "    :param source_folder: The root folder to search in.\n",
    "    :param target_folder: The folder to copy the files to.\n",
    "    :param file_extension: The file extension to search for (e.g., '.pdf', '.jpg').\n",
    "    \"\"\"\n",
    "    if not os.path.exists(target_folder):\n",
    "        os.makedirs(target_folder)\n",
    "    \n",
    "    for foldername, subfolders, filenames in os.walk(source_folder):\n",
    "        for filename in filenames:\n",
    "            if filename.lower().endswith(file_extension):\n",
    "                file_path = os.path.join(foldername, filename)\n",
    "                shutil.copy(file_path, target_folder)\n",
    "                print(f\"Copied: {file_path}\")\n",
    "\n",
    "# Example usage:\n",
    "source_dir = \"C:\\\\path\\\\to\\\\source_folder\"\n",
    "target_dir = \"C:\\\\path\\\\to\\\\target_folder\"\n",
    "extension = \".pdf\"\n",
    "\n",
    "search_and_copy_files(source_dir, target_dir, extension)\n"
   ]
  },
  {
   "cell_type": "code",
   "execution_count": null,
   "id": "0a9cc31f-4a8f-4b2d-9db0-42fd009e896e",
   "metadata": {},
   "outputs": [],
   "source": []
  }
 ],
 "metadata": {
  "kernelspec": {
   "display_name": "Python 3 (ipykernel)",
   "language": "python",
   "name": "python3"
  },
  "language_info": {
   "codemirror_mode": {
    "name": "ipython",
    "version": 3
   },
   "file_extension": ".py",
   "mimetype": "text/x-python",
   "name": "python",
   "nbconvert_exporter": "python",
   "pygments_lexer": "ipython3",
   "version": "3.11.7"
  }
 },
 "nbformat": 4,
 "nbformat_minor": 5
}
