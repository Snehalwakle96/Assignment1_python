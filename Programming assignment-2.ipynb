{
 "cells": [
  {
   "cell_type": "code",
   "execution_count": 1,
   "id": "59e40a8a-bbee-416a-92e1-02b713d0fb30",
   "metadata": {},
   "outputs": [
    {
     "name": "stdout",
     "output_type": "stream",
     "text": [
      "5.0 kilometers is equal to 3.106855 miles\n"
     ]
    }
   ],
   "source": [
    "# 1. Write a Python program to convert kilometers to miles\n",
    "\n",
    "# Conversion factor\n",
    "km_to_miles_factor = 0.621371\n",
    "\n",
    "# Input: kilometers to convert\n",
    "kilometers = 5.0\n",
    "\n",
    "# Convert to miles\n",
    "miles = kilometers * km_to_miles_factor\n",
    "print(f\"{kilometers} kilometers is equal to {miles} miles\")"
   ]
  },
  {
   "cell_type": "code",
   "execution_count": 2,
   "id": "d7aa99ad-2358-45bc-af59-51ae450b731b",
   "metadata": {},
   "outputs": [
    {
     "name": "stdout",
     "output_type": "stream",
     "text": [
      "25.0°C is equal to 77.0°F\n"
     ]
    }
   ],
   "source": [
    "# 2. Write a Python program to convert Celsius to Fahrenheit\n",
    "\n",
    "# Input: Celsius temperature\n",
    "celsius = 25.0\n",
    "\n",
    "# Convert to Fahrenheit\n",
    "fahrenheit = (celsius * 9/5) + 32\n",
    "print(f\"{celsius}°C is equal to {fahrenheit}°F\")\n"
   ]
  },
  {
   "cell_type": "code",
   "execution_count": 3,
   "id": "a74051e9-1ea1-4805-b7a7-f446321d570a",
   "metadata": {},
   "outputs": [
    {
     "name": "stdout",
     "output_type": "stream",
     "text": [
      "   September 2024\n",
      "Mo Tu We Th Fr Sa Su\n",
      "                   1\n",
      " 2  3  4  5  6  7  8\n",
      " 9 10 11 12 13 14 15\n",
      "16 17 18 19 20 21 22\n",
      "23 24 25 26 27 28 29\n",
      "30\n",
      "\n"
     ]
    }
   ],
   "source": [
    "# 3. Write a Python program to display calendar\n",
    "\n",
    "import calendar\n",
    "\n",
    "# Input: Year and Month\n",
    "year = 2024\n",
    "month = 9\n",
    "\n",
    "# Display the calendar for the given month and year\n",
    "print(calendar.month(year, month))\n"
   ]
  },
  {
   "cell_type": "code",
   "execution_count": 4,
   "id": "931cdfa3-8b4d-4acd-8982-dffb9b7da141",
   "metadata": {},
   "outputs": [
    {
     "name": "stdout",
     "output_type": "stream",
     "text": [
      "The solutions of the quadratic equation are (-3+0j) and (-2+0j)\n"
     ]
    }
   ],
   "source": [
    "# 4. Write a Python program to solve quadratic equation\n",
    "\n",
    "import cmath\n",
    "\n",
    "# Coefficients of the quadratic equation ax^2 + bx + c = 0\n",
    "a = 1\n",
    "b = 5\n",
    "c = 6\n",
    "\n",
    "# Calculate the discriminant\n",
    "discriminant = b**2 - 4*a*c\n",
    "\n",
    "# Find two solutions using the quadratic formula\n",
    "solution1 = (-b - cmath.sqrt(discriminant)) / (2 * a)\n",
    "solution2 = (-b + cmath.sqrt(discriminant)) / (2 * a)\n",
    "\n",
    "print(f\"The solutions of the quadratic equation are {solution1} and {solution2}\")\n"
   ]
  },
  {
   "cell_type": "code",
   "execution_count": 5,
   "id": "ef7cc155-4702-4fc9-971a-7c60e7ba44c6",
   "metadata": {},
   "outputs": [
    {
     "name": "stdout",
     "output_type": "stream",
     "text": [
      "Before swapping: x = 7, y = 3\n",
      "After swapping: x = 3, y = 7\n"
     ]
    }
   ],
   "source": [
    "# 5. Write a Python program to swap two variables without temp variable\n",
    "\n",
    "# Define two variables\n",
    "x = 7\n",
    "y = 3\n",
    "\n",
    "print(f\"Before swapping: x = {x}, y = {y}\")\n",
    "\n",
    "# Swap without temp variable\n",
    "x = x + y\n",
    "y = x - y\n",
    "x = x - y\n",
    "\n",
    "print(f\"After swapping: x = {x}, y = {y}\")\n"
   ]
  },
  {
   "cell_type": "code",
   "execution_count": null,
   "id": "6a45022e-33a5-40d7-9983-297c297d5dd6",
   "metadata": {},
   "outputs": [],
   "source": []
  },
  {
   "cell_type": "code",
   "execution_count": null,
   "id": "b908a725-dfe5-486d-b3b2-66e2bef02286",
   "metadata": {},
   "outputs": [],
   "source": []
  }
 ],
 "metadata": {
  "kernelspec": {
   "display_name": "Python 3 (ipykernel)",
   "language": "python",
   "name": "python3"
  },
  "language_info": {
   "codemirror_mode": {
    "name": "ipython",
    "version": 3
   },
   "file_extension": ".py",
   "mimetype": "text/x-python",
   "name": "python",
   "nbconvert_exporter": "python",
   "pygments_lexer": "ipython3",
   "version": "3.11.7"
  }
 },
 "nbformat": 4,
 "nbformat_minor": 5
}
